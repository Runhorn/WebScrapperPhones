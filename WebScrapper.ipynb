{
 "cells": [
  {
   "cell_type": "markdown",
   "metadata": {},
   "source": [
    "# This is Best Selling Phones scrapper Script and analysis"
   ]
  },
  {
   "cell_type": "raw",
   "metadata": {},
   "source": [
    "It's purpose is to get urls to all offers from well-known selling portal.\n",
    "Portal name will be deleted in the example.\n",
    "Scrapper will get data about internet phone-sales and the analysis will be performed."
   ]
  },
  {
   "cell_type": "markdown",
   "metadata": {},
   "source": [
    "# Scrapper"
   ]
  },
  {
   "cell_type": "code",
   "execution_count": 3,
   "metadata": {},
   "outputs": [],
   "source": [
    "import requests\n",
    "import time\n",
    "import pandas as pd\n",
    "import matplotlib.pyplot as plt\n",
    "from bs4 import BeautifulSoup"
   ]
  },
  {
   "cell_type": "raw",
   "metadata": {},
   "source": [
    "After imports we will get functions which may get all brands and all phones within a brand."
   ]
  },
  {
   "cell_type": "code",
   "execution_count": 4,
   "metadata": {},
   "outputs": [],
   "source": [
    "def get_all_brands_urls_dict():\n",
    "    url = \"https://a.pl/kategoria/smartfony-i-telefony-komorkowe-165\"\n",
    "\n",
    "    sauce = requests.get(url)\n",
    "    soup = BeautifulSoup(sauce.text, 'html.parser')\n",
    "    brands = {}\n",
    "\n",
    "    for brand in soup.find('div', attrs={\"data-role\": \"Categories\"}).find('ul'):\n",
    "        brands[' '.join(brand.find('a').get_text().strip().split(' '))] = 'https://a.pl' + brand.find(\n",
    "            'a').get('href')\n",
    "    return brands"
   ]
  },
  {
   "cell_type": "code",
   "execution_count": 5,
   "metadata": {},
   "outputs": [],
   "source": [
    "def get_phones_list(page_url):\n",
    "    sauce = requests.get(page_url)\n",
    "    soup = BeautifulSoup(sauce.text, 'html.parser')\n",
    "    all_phones = soup.find('div', attrs={\"data-role\":\"Categories\"})\n",
    "    return all_phones"
   ]
  },
  {
   "cell_type": "raw",
   "metadata": {},
   "source": [
    "We will use only one brand in the example, due to educational purpose of this code.\n",
    "We don't want to harm company server nor get blocked."
   ]
  },
  {
   "cell_type": "code",
   "execution_count": 6,
   "metadata": {},
   "outputs": [],
   "source": [
    "brands = get_all_brands_urls_dict()\n",
    "key_list = ['LG']\n",
    "phones = {}\n",
    "\n",
    "for key in key_list:\n",
    "    all_phones = get_phones_list(brands[key])\n",
    "    phones[key] = {' '.join(x.text.strip().split(\" \")[:-1]) : \"https://www.a.pl\" + x.find('a').get('href') for x in all_phones.find_all('li')}"
   ]
  },
  {
   "cell_type": "code",
   "execution_count": 9,
   "metadata": {},
   "outputs": [],
   "source": [
    "def get_offer_list(phones):\n",
    "    offer_list = []\n",
    "    for key in phones.keys():\n",
    "        for k, val in phones[key].items():\n",
    "            source = requests.get(val)\n",
    "            soup = BeautifulSoup(source.text, 'html.parser')\n",
    "            pages_count = int(soup.find('div', attrs={\"role\":\"navigation\", \"aria-label\":\"paginacja\"}).find('span').contents[0])\n",
    "            for i in range(1,pages_count+1):\n",
    "                val_num = val + '?p=' + str(i)\n",
    "                source_page = requests.get(val_num)\n",
    "                print(key + ' ' + k + ' : '+ str(i)+\"/\"+str(pages_count))\n",
    "                soup_page = BeautifulSoup(source_page.text, 'html.parser')\n",
    "                time.sleep(0.5)\n",
    "                for offer in soup_page.find_all('article', attrs = {'data-role':'offer'}):\n",
    "                    url_offer = offer.find('h2').find('a').get('href')\n",
    "                    cena_offer = [x.text for x in offer.find_all('span') if \"zł\" in x.text][0]\n",
    "                    sold = [int(x.text.strip().split(\" \")[0]) for x in offer.find_all('span') if \"kupił\" in x.text] + [0]\n",
    "                    data = { 'model': k, 'url_oferty': url_offer, 'cena_oferty': cena_offer, 'sold': sold[0], 'manufacturer': key}\n",
    "                    offer_list += [data]\n",
    "    return offer_list\n"
   ]
  },
  {
   "cell_type": "raw",
   "metadata": {},
   "source": [
    "We will get our offer list and parse it to pandas DataFrame. In order to perform further actions on the data, we will save it to .zip (.csv) so that we don't have to initialize scrapping over and over again."
   ]
  },
  {
   "cell_type": "code",
   "execution_count": 10,
   "metadata": {},
   "outputs": [
    {
     "name": "stdout",
     "output_type": "stream",
     "text": [
      "LG G : 1/1\n",
      "LG  : 1/1\n",
      "LG G2 : 1/1\n",
      "LG G3 : 1/1\n",
      "LG G4 : 1/1\n",
      "LG G8s : 1/1\n",
      "LG K4 : 1/1\n",
      "LG K8 : 1/2\n",
      "LG K8 : 2/2\n",
      "LG L5 II : 1/1\n",
      "LG L7 II : 1/1\n",
      "LG L9 II : 1/1\n",
      "LG Stylus : 1/1\n",
      "LG X : 1/1\n",
      "LG Inne : 1/23\n",
      "LG Inne : 2/23\n",
      "LG Inne : 3/23\n",
      "LG Inne : 4/23\n",
      "LG Inne : 5/23\n",
      "LG Inne : 6/23\n",
      "LG Inne : 7/23\n",
      "LG Inne : 8/23\n",
      "LG Inne : 9/23\n",
      "LG Inne : 10/23\n",
      "LG Inne : 11/23\n",
      "LG Inne : 12/23\n",
      "LG Inne : 13/23\n",
      "LG Inne : 14/23\n",
      "LG Inne : 15/23\n",
      "LG Inne : 16/23\n",
      "LG Inne : 17/23\n",
      "LG Inne : 18/23\n",
      "LG Inne : 19/23\n",
      "LG Inne : 20/23\n",
      "LG Inne : 21/23\n",
      "LG Inne : 22/23\n",
      "LG Inne : 23/23\n"
     ]
    }
   ],
   "source": [
    "lista_ofert = get_offer_list(phones)\n",
    "df = pd.DataFrame.from_dict(lista_ofert)\n",
    "\n",
    "compression_opts = dict(method='zip', archive_name='out.csv')\n",
    "df.to_csv('out.zip', index=False, compression=compression_opts)"
   ]
  },
  {
   "cell_type": "markdown",
   "metadata": {},
   "source": [
    "# Data Analysis "
   ]
  },
  {
   "cell_type": "code",
   "execution_count": 11,
   "metadata": {},
   "outputs": [
    {
     "data": {
      "text/html": [
       "<div>\n",
       "<style scoped>\n",
       "    .dataframe tbody tr th:only-of-type {\n",
       "        vertical-align: middle;\n",
       "    }\n",
       "\n",
       "    .dataframe tbody tr th {\n",
       "        vertical-align: top;\n",
       "    }\n",
       "\n",
       "    .dataframe thead th {\n",
       "        text-align: right;\n",
       "    }\n",
       "</style>\n",
       "<table border=\"1\" class=\"dataframe\">\n",
       "  <thead>\n",
       "    <tr style=\"text-align: right;\">\n",
       "      <th></th>\n",
       "      <th>sold</th>\n",
       "    </tr>\n",
       "  </thead>\n",
       "  <tbody>\n",
       "    <tr>\n",
       "      <th>count</th>\n",
       "      <td>1671.000000</td>\n",
       "    </tr>\n",
       "    <tr>\n",
       "      <th>mean</th>\n",
       "      <td>0.097546</td>\n",
       "    </tr>\n",
       "    <tr>\n",
       "      <th>std</th>\n",
       "      <td>0.664362</td>\n",
       "    </tr>\n",
       "    <tr>\n",
       "      <th>min</th>\n",
       "      <td>0.000000</td>\n",
       "    </tr>\n",
       "    <tr>\n",
       "      <th>25%</th>\n",
       "      <td>0.000000</td>\n",
       "    </tr>\n",
       "    <tr>\n",
       "      <th>50%</th>\n",
       "      <td>0.000000</td>\n",
       "    </tr>\n",
       "    <tr>\n",
       "      <th>75%</th>\n",
       "      <td>0.000000</td>\n",
       "    </tr>\n",
       "    <tr>\n",
       "      <th>max</th>\n",
       "      <td>17.000000</td>\n",
       "    </tr>\n",
       "  </tbody>\n",
       "</table>\n",
       "</div>"
      ],
      "text/plain": [
       "              sold\n",
       "count  1671.000000\n",
       "mean      0.097546\n",
       "std       0.664362\n",
       "min       0.000000\n",
       "25%       0.000000\n",
       "50%       0.000000\n",
       "75%       0.000000\n",
       "max      17.000000"
      ]
     },
     "execution_count": 11,
     "metadata": {},
     "output_type": "execute_result"
    }
   ],
   "source": [
    "df.describe()"
   ]
  },
  {
   "cell_type": "raw",
   "metadata": {},
   "source": [
    "Sold column represents the ammount of sold phones in one offer. It is not the ideal criteria.\n",
    "We need to make another column that will represent numerical value of sales and total sales."
   ]
  },
  {
   "cell_type": "code",
   "execution_count": 16,
   "metadata": {},
   "outputs": [
    {
     "data": {
      "text/html": [
       "<div>\n",
       "<style scoped>\n",
       "    .dataframe tbody tr th:only-of-type {\n",
       "        vertical-align: middle;\n",
       "    }\n",
       "\n",
       "    .dataframe tbody tr th {\n",
       "        vertical-align: top;\n",
       "    }\n",
       "\n",
       "    .dataframe thead th {\n",
       "        text-align: right;\n",
       "    }\n",
       "</style>\n",
       "<table border=\"1\" class=\"dataframe\">\n",
       "  <thead>\n",
       "    <tr style=\"text-align: right;\">\n",
       "      <th></th>\n",
       "      <th>Min_price</th>\n",
       "      <th>Mean_price</th>\n",
       "      <th>Max_price</th>\n",
       "      <th>Sold</th>\n",
       "      <th>Total_Sale</th>\n",
       "    </tr>\n",
       "  </thead>\n",
       "  <tbody>\n",
       "    <tr>\n",
       "      <th>count</th>\n",
       "      <td>13.000000</td>\n",
       "      <td>13.000000</td>\n",
       "      <td>13.00000</td>\n",
       "      <td>13.000000</td>\n",
       "      <td>13.000000</td>\n",
       "    </tr>\n",
       "    <tr>\n",
       "      <th>mean</th>\n",
       "      <td>26.000000</td>\n",
       "      <td>329.500000</td>\n",
       "      <td>1407.00000</td>\n",
       "      <td>12.384615</td>\n",
       "      <td>10684.307692</td>\n",
       "    </tr>\n",
       "    <tr>\n",
       "      <th>std</th>\n",
       "      <td>24.698178</td>\n",
       "      <td>381.052082</td>\n",
       "      <td>2673.25164</td>\n",
       "      <td>40.789170</td>\n",
       "      <td>36381.779511</td>\n",
       "    </tr>\n",
       "    <tr>\n",
       "      <th>min</th>\n",
       "      <td>1.000000</td>\n",
       "      <td>62.710000</td>\n",
       "      <td>100.00000</td>\n",
       "      <td>0.000000</td>\n",
       "      <td>0.000000</td>\n",
       "    </tr>\n",
       "    <tr>\n",
       "      <th>25%</th>\n",
       "      <td>10.000000</td>\n",
       "      <td>126.800000</td>\n",
       "      <td>300.00000</td>\n",
       "      <td>0.000000</td>\n",
       "      <td>0.000000</td>\n",
       "    </tr>\n",
       "    <tr>\n",
       "      <th>50%</th>\n",
       "      <td>20.000000</td>\n",
       "      <td>186.870000</td>\n",
       "      <td>499.00000</td>\n",
       "      <td>0.000000</td>\n",
       "      <td>0.000000</td>\n",
       "    </tr>\n",
       "    <tr>\n",
       "      <th>75%</th>\n",
       "      <td>30.000000</td>\n",
       "      <td>261.620000</td>\n",
       "      <td>599.00000</td>\n",
       "      <td>2.000000</td>\n",
       "      <td>884.000000</td>\n",
       "    </tr>\n",
       "    <tr>\n",
       "      <th>max</th>\n",
       "      <td>99.000000</td>\n",
       "      <td>1287.000000</td>\n",
       "      <td>9999.00000</td>\n",
       "      <td>148.000000</td>\n",
       "      <td>131710.000000</td>\n",
       "    </tr>\n",
       "  </tbody>\n",
       "</table>\n",
       "</div>"
      ],
      "text/plain": [
       "       Min_price   Mean_price   Max_price        Sold     Total_Sale\n",
       "count  13.000000    13.000000    13.00000   13.000000      13.000000\n",
       "mean   26.000000   329.500000  1407.00000   12.384615   10684.307692\n",
       "std    24.698178   381.052082  2673.25164   40.789170   36381.779511\n",
       "min     1.000000    62.710000   100.00000    0.000000       0.000000\n",
       "25%    10.000000   126.800000   300.00000    0.000000       0.000000\n",
       "50%    20.000000   186.870000   499.00000    0.000000       0.000000\n",
       "75%    30.000000   261.620000   599.00000    2.000000     884.000000\n",
       "max    99.000000  1287.000000  9999.00000  148.000000  131710.000000"
      ]
     },
     "execution_count": 16,
     "metadata": {},
     "output_type": "execute_result"
    }
   ],
   "source": [
    "df = pd.read_csv('out.zip')\n",
    "df['offer_price_num'] = df['cena_oferty'].apply(lambda x: int(x.split(',')[0].replace(' ','')))\n",
    "df['total_sale'] = df['offer_price_num'] * df['sold']\n",
    "df_1 = (df.groupby('model')\n",
    "     .agg(Min_price=(\"offer_price_num\", 'min'),\n",
    "          Mean_price=(\"offer_price_num\", 'mean'),\n",
    "          Max_price=('offer_price_num','max'),\n",
    "          Sold=('sold', 'sum'),\n",
    "          Total_Sale=('total_sale', 'sum'))\n",
    "     .reset_index().round(2))\n",
    "df_1.describe()"
   ]
  },
  {
   "cell_type": "code",
   "execution_count": 17,
   "metadata": {},
   "outputs": [
    {
     "data": {
      "text/html": [
       "<div>\n",
       "<style scoped>\n",
       "    .dataframe tbody tr th:only-of-type {\n",
       "        vertical-align: middle;\n",
       "    }\n",
       "\n",
       "    .dataframe tbody tr th {\n",
       "        vertical-align: top;\n",
       "    }\n",
       "\n",
       "    .dataframe thead th {\n",
       "        text-align: right;\n",
       "    }\n",
       "</style>\n",
       "<table border=\"1\" class=\"dataframe\">\n",
       "  <thead>\n",
       "    <tr style=\"text-align: right;\">\n",
       "      <th></th>\n",
       "      <th>model</th>\n",
       "      <th>Min_price</th>\n",
       "      <th>Mean_price</th>\n",
       "      <th>Max_price</th>\n",
       "      <th>Sold</th>\n",
       "      <th>Total_Sale</th>\n",
       "    </tr>\n",
       "  </thead>\n",
       "  <tbody>\n",
       "    <tr>\n",
       "      <th>0</th>\n",
       "      <td>G8s</td>\n",
       "      <td>20</td>\n",
       "      <td>1287.00</td>\n",
       "      <td>2399</td>\n",
       "      <td>2</td>\n",
       "      <td>3968</td>\n",
       "    </tr>\n",
       "    <tr>\n",
       "      <th>1</th>\n",
       "      <td>K8</td>\n",
       "      <td>9</td>\n",
       "      <td>194.90</td>\n",
       "      <td>499</td>\n",
       "      <td>5</td>\n",
       "      <td>1815</td>\n",
       "    </tr>\n",
       "    <tr>\n",
       "      <th>2</th>\n",
       "      <td>G3</td>\n",
       "      <td>30</td>\n",
       "      <td>186.87</td>\n",
       "      <td>519</td>\n",
       "      <td>1</td>\n",
       "      <td>519</td>\n",
       "    </tr>\n",
       "    <tr>\n",
       "      <th>3</th>\n",
       "      <td>K4</td>\n",
       "      <td>10</td>\n",
       "      <td>160.94</td>\n",
       "      <td>439</td>\n",
       "      <td>5</td>\n",
       "      <td>884</td>\n",
       "    </tr>\n",
       "  </tbody>\n",
       "</table>\n",
       "</div>"
      ],
      "text/plain": [
       "  model  Min_price  Mean_price  Max_price  Sold  Total_Sale\n",
       "0   G8s         20     1287.00       2399     2        3968\n",
       "1    K8          9      194.90        499     5        1815\n",
       "2    G3         30      186.87        519     1         519\n",
       "3    K4         10      160.94        439     5         884"
      ]
     },
     "execution_count": 17,
     "metadata": {},
     "output_type": "execute_result"
    }
   ],
   "source": [
    "df_1 = df_1[df_1['Total_Sale'] > 0]\n",
    "df_1 = df_1[df_1['model'] != 'Inne']\n",
    "df_1.sort_values(by=['Mean_price'], ascending=False, ignore_index = True)"
   ]
  },
  {
   "cell_type": "code",
   "execution_count": 18,
   "metadata": {},
   "outputs": [
    {
     "data": {
      "text/html": [
       "<div>\n",
       "<style scoped>\n",
       "    .dataframe tbody tr th:only-of-type {\n",
       "        vertical-align: middle;\n",
       "    }\n",
       "\n",
       "    .dataframe tbody tr th {\n",
       "        vertical-align: top;\n",
       "    }\n",
       "\n",
       "    .dataframe thead th {\n",
       "        text-align: right;\n",
       "    }\n",
       "</style>\n",
       "<table border=\"1\" class=\"dataframe\">\n",
       "  <thead>\n",
       "    <tr style=\"text-align: right;\">\n",
       "      <th></th>\n",
       "      <th>model</th>\n",
       "      <th>Min_price</th>\n",
       "      <th>Mean_price</th>\n",
       "      <th>Max_price</th>\n",
       "      <th>Sold</th>\n",
       "      <th>Total_Sale</th>\n",
       "    </tr>\n",
       "  </thead>\n",
       "  <tbody>\n",
       "    <tr>\n",
       "      <th>0</th>\n",
       "      <td>G8s</td>\n",
       "      <td>20</td>\n",
       "      <td>1287.00</td>\n",
       "      <td>2399</td>\n",
       "      <td>2</td>\n",
       "      <td>3968</td>\n",
       "    </tr>\n",
       "    <tr>\n",
       "      <th>1</th>\n",
       "      <td>K8</td>\n",
       "      <td>9</td>\n",
       "      <td>194.90</td>\n",
       "      <td>499</td>\n",
       "      <td>5</td>\n",
       "      <td>1815</td>\n",
       "    </tr>\n",
       "    <tr>\n",
       "      <th>2</th>\n",
       "      <td>K4</td>\n",
       "      <td>10</td>\n",
       "      <td>160.94</td>\n",
       "      <td>439</td>\n",
       "      <td>5</td>\n",
       "      <td>884</td>\n",
       "    </tr>\n",
       "    <tr>\n",
       "      <th>3</th>\n",
       "      <td>G3</td>\n",
       "      <td>30</td>\n",
       "      <td>186.87</td>\n",
       "      <td>519</td>\n",
       "      <td>1</td>\n",
       "      <td>519</td>\n",
       "    </tr>\n",
       "  </tbody>\n",
       "</table>\n",
       "</div>"
      ],
      "text/plain": [
       "  model  Min_price  Mean_price  Max_price  Sold  Total_Sale\n",
       "0   G8s         20     1287.00       2399     2        3968\n",
       "1    K8          9      194.90        499     5        1815\n",
       "2    K4         10      160.94        439     5         884\n",
       "3    G3         30      186.87        519     1         519"
      ]
     },
     "execution_count": 18,
     "metadata": {},
     "output_type": "execute_result"
    }
   ],
   "source": [
    "df_1.sort_values(by=['Total_Sale'], ascending=False, ignore_index = True)"
   ]
  },
  {
   "cell_type": "raw",
   "metadata": {},
   "source": [
    "Now we see best selling phone models of known brand and their total sales. This data would be processed to further business inteligence tools but we keep it to educational purposes."
   ]
  },
  {
   "cell_type": "code",
   "execution_count": 19,
   "metadata": {},
   "outputs": [
    {
     "data": {
      "image/png": "[encoded data removed]",
      "text/plain": [
       "<Figure size 432x288 with 1 Axes>"
      ]
     },
     "metadata": {},
     "output_type": "display_data"
    }
   ],
   "source": [
    "fig1, ax1 = plt.subplots()\n",
    "ax1.pie(df_1['Total_Sale'].head(), labels=df_1['model'].head(), autopct='%1.1f%%',\n",
    "        shadow=True, startangle=90)\n",
    "ax1.axis('equal')\n",
    "plt.show()"
   ]
  },
  {
   "cell_type": "code",
   "execution_count": null,
   "metadata": {},
   "outputs": [],
   "source": []
  }
 ],
 "metadata": {
  "kernelspec": {
   "display_name": "Python 3",
   "language": "python",
   "name": "python3"
  },
  "language_info": {
   "codemirror_mode": {
    "name": "ipython",
    "version": 3
   },
   "file_extension": ".py",
   "mimetype": "text/x-python",
   "name": "python",
   "nbconvert_exporter": "python",
   "pygments_lexer": "ipython3",
   "version": "3.7.6"
  }
 },
 "nbformat": 4,
 "nbformat_minor": 4
}
